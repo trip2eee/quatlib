{
 "cells": [
  {
   "cell_type": "markdown",
   "source": [
    "# Quaternion test"
   ],
   "metadata": {}
  },
  {
   "cell_type": "code",
   "execution_count": 11,
   "source": [
    "from IPython.display import display\r\n",
    "import sympy as sp\r\n",
    "from sympy.algebras.quaternion import Quaternion\r\n",
    "\r\n",
    "ax, ay, az = sp.symbols('a_x a_y a_z')\r\n",
    "qr, qx, qy, qz = sp.symbols('q_r q_x q_y q_z')\r\n",
    "q = Quaternion(qr, qx, qy, qz)\r\n",
    "p = Quaternion(0, ax, ay, az)\r\n",
    "\r\n",
    "print(p)\r\n",
    "print(q)\r\n",
    "print(q.conjugate())\r\n",
    "\r\n",
    "\r\n",
    "p_rot = q * p * q.conjugate()\r\n",
    "p_rot = p_rot.simplify()\r\n",
    "\r\n",
    "print('rotation result')\r\n",
    "print(p_rot)\r\n",
    "display(p_rot)\r\n",
    "\r\n",
    "print('latex')\r\n",
    "print(sp.latex(p_rot))\r\n",
    "\r\n",
    "x = (qr*(ax*qr - ay*qz + az*qy) + qx*(ax*qx + ay*qy + az*qz) + qy*(-ax*qy + ay*qx + az*qr) - qz*(ax*qz + ay*qr - az*qx))\r\n",
    "y = (qr*(ax*qz + ay*qr - az*qx) - qx*(-ax*qy + ay*qx + az*qr) + qy*(ax*qx + ay*qy + az*qz) + qz*(ax*qr - ay*qz + az*qy))\r\n",
    "z = (qr*(-ax*qy + ay*qx + az*qr) + qx*(ax*qz + ay*qr - az*qx) - qy*(ax*qr - ay*qz + az*qy) + qz*(ax*qx + ay*qy + az*qz))\r\n",
    "\r\n",
    "p2 = sp.Matrix([[x], [y], [z]])\r\n",
    "display(p2)\r\n",
    "\r\n",
    "dp2_dx = p2.diff(ax)\r\n",
    "dp2_dy = p2.diff(ay)\r\n",
    "dp2_dz = p2.diff(az)\r\n",
    "\r\n",
    "dp2_dxyz = dp2_dx\r\n",
    "dp2_dxyz = sp.Matrix.hstack(dp2_dxyz, dp2_dy)\r\n",
    "dp2_dxyz = sp.Matrix.hstack(dp2_dxyz, dp2_dz)\r\n",
    "\r\n",
    "display(dp2_dxyz)\r\n",
    "sp.latex(dp2_dxyz)\r\n",
    "\r\n"
   ],
   "outputs": [
    {
     "output_type": "stream",
     "name": "stdout",
     "text": [
      "0 + a_x*i + a_y*j + a_z*k\n",
      "q_r + q_x*i + q_y*j + q_z*k\n",
      "q_r + (-q_x)*i + (-q_y)*j + (-q_z)*k\n",
      "rotation result\n",
      "0 + (q_r*(a_x*q_r - a_y*q_z + a_z*q_y) + q_x*(a_x*q_x + a_y*q_y + a_z*q_z) + q_y*(-a_x*q_y + a_y*q_x + a_z*q_r) - q_z*(a_x*q_z + a_y*q_r - a_z*q_x))*i + (q_r*(a_x*q_z + a_y*q_r - a_z*q_x) - q_x*(-a_x*q_y + a_y*q_x + a_z*q_r) + q_y*(a_x*q_x + a_y*q_y + a_z*q_z) + q_z*(a_x*q_r - a_y*q_z + a_z*q_y))*j + (q_r*(-a_x*q_y + a_y*q_x + a_z*q_r) + q_x*(a_x*q_z + a_y*q_r - a_z*q_x) - q_y*(a_x*q_r - a_y*q_z + a_z*q_y) + q_z*(a_x*q_x + a_y*q_y + a_z*q_z))*k\n"
     ]
    },
    {
     "output_type": "display_data",
     "data": {
      "text/latex": [
       "$\\displaystyle 0 + \\left(q_{r} \\left(a_{x} q_{r} - a_{y} q_{z} + a_{z} q_{y}\\right) + q_{x} \\left(a_{x} q_{x} + a_{y} q_{y} + a_{z} q_{z}\\right) + q_{y} \\left(- a_{x} q_{y} + a_{y} q_{x} + a_{z} q_{r}\\right) - q_{z} \\left(a_{x} q_{z} + a_{y} q_{r} - a_{z} q_{x}\\right)\\right) i + \\left(q_{r} \\left(a_{x} q_{z} + a_{y} q_{r} - a_{z} q_{x}\\right) - q_{x} \\left(- a_{x} q_{y} + a_{y} q_{x} + a_{z} q_{r}\\right) + q_{y} \\left(a_{x} q_{x} + a_{y} q_{y} + a_{z} q_{z}\\right) + q_{z} \\left(a_{x} q_{r} - a_{y} q_{z} + a_{z} q_{y}\\right)\\right) j + \\left(q_{r} \\left(- a_{x} q_{y} + a_{y} q_{x} + a_{z} q_{r}\\right) + q_{x} \\left(a_{x} q_{z} + a_{y} q_{r} - a_{z} q_{x}\\right) - q_{y} \\left(a_{x} q_{r} - a_{y} q_{z} + a_{z} q_{y}\\right) + q_{z} \\left(a_{x} q_{x} + a_{y} q_{y} + a_{z} q_{z}\\right)\\right) k$"
      ],
      "text/plain": [
       "0 + (q_r*(a_x*q_r - a_y*q_z + a_z*q_y) + q_x*(a_x*q_x + a_y*q_y + a_z*q_z) + q_y*(-a_x*q_y + a_y*q_x + a_z*q_r) - q_z*(a_x*q_z + a_y*q_r - a_z*q_x))*i + (q_r*(a_x*q_z + a_y*q_r - a_z*q_x) - q_x*(-a_x*q_y + a_y*q_x + a_z*q_r) + q_y*(a_x*q_x + a_y*q_y + a_z*q_z) + q_z*(a_x*q_r - a_y*q_z + a_z*q_y))*j + (q_r*(-a_x*q_y + a_y*q_x + a_z*q_r) + q_x*(a_x*q_z + a_y*q_r - a_z*q_x) - q_y*(a_x*q_r - a_y*q_z + a_z*q_y) + q_z*(a_x*q_x + a_y*q_y + a_z*q_z))*k"
      ]
     },
     "metadata": {}
    },
    {
     "output_type": "stream",
     "name": "stdout",
     "text": [
      "latex\n",
      "0 + \\left(q_{r} \\left(a_{x} q_{r} - a_{y} q_{z} + a_{z} q_{y}\\right) + q_{x} \\left(a_{x} q_{x} + a_{y} q_{y} + a_{z} q_{z}\\right) + q_{y} \\left(- a_{x} q_{y} + a_{y} q_{x} + a_{z} q_{r}\\right) - q_{z} \\left(a_{x} q_{z} + a_{y} q_{r} - a_{z} q_{x}\\right)\\right) i + \\left(q_{r} \\left(a_{x} q_{z} + a_{y} q_{r} - a_{z} q_{x}\\right) - q_{x} \\left(- a_{x} q_{y} + a_{y} q_{x} + a_{z} q_{r}\\right) + q_{y} \\left(a_{x} q_{x} + a_{y} q_{y} + a_{z} q_{z}\\right) + q_{z} \\left(a_{x} q_{r} - a_{y} q_{z} + a_{z} q_{y}\\right)\\right) j + \\left(q_{r} \\left(- a_{x} q_{y} + a_{y} q_{x} + a_{z} q_{r}\\right) + q_{x} \\left(a_{x} q_{z} + a_{y} q_{r} - a_{z} q_{x}\\right) - q_{y} \\left(a_{x} q_{r} - a_{y} q_{z} + a_{z} q_{y}\\right) + q_{z} \\left(a_{x} q_{x} + a_{y} q_{y} + a_{z} q_{z}\\right)\\right) k\n"
     ]
    },
    {
     "output_type": "display_data",
     "data": {
      "text/latex": [
       "$\\displaystyle \\left[\\begin{matrix}q_{r} \\left(a_{x} q_{r} - a_{y} q_{z} + a_{z} q_{y}\\right) + q_{x} \\left(a_{x} q_{x} + a_{y} q_{y} + a_{z} q_{z}\\right) + q_{y} \\left(- a_{x} q_{y} + a_{y} q_{x} + a_{z} q_{r}\\right) - q_{z} \\left(a_{x} q_{z} + a_{y} q_{r} - a_{z} q_{x}\\right)\\\\q_{r} \\left(a_{x} q_{z} + a_{y} q_{r} - a_{z} q_{x}\\right) - q_{x} \\left(- a_{x} q_{y} + a_{y} q_{x} + a_{z} q_{r}\\right) + q_{y} \\left(a_{x} q_{x} + a_{y} q_{y} + a_{z} q_{z}\\right) + q_{z} \\left(a_{x} q_{r} - a_{y} q_{z} + a_{z} q_{y}\\right)\\\\q_{r} \\left(- a_{x} q_{y} + a_{y} q_{x} + a_{z} q_{r}\\right) + q_{x} \\left(a_{x} q_{z} + a_{y} q_{r} - a_{z} q_{x}\\right) - q_{y} \\left(a_{x} q_{r} - a_{y} q_{z} + a_{z} q_{y}\\right) + q_{z} \\left(a_{x} q_{x} + a_{y} q_{y} + a_{z} q_{z}\\right)\\end{matrix}\\right]$"
      ],
      "text/plain": [
       "Matrix([\n",
       "[q_r*(a_x*q_r - a_y*q_z + a_z*q_y) + q_x*(a_x*q_x + a_y*q_y + a_z*q_z) + q_y*(-a_x*q_y + a_y*q_x + a_z*q_r) - q_z*(a_x*q_z + a_y*q_r - a_z*q_x)],\n",
       "[q_r*(a_x*q_z + a_y*q_r - a_z*q_x) - q_x*(-a_x*q_y + a_y*q_x + a_z*q_r) + q_y*(a_x*q_x + a_y*q_y + a_z*q_z) + q_z*(a_x*q_r - a_y*q_z + a_z*q_y)],\n",
       "[q_r*(-a_x*q_y + a_y*q_x + a_z*q_r) + q_x*(a_x*q_z + a_y*q_r - a_z*q_x) - q_y*(a_x*q_r - a_y*q_z + a_z*q_y) + q_z*(a_x*q_x + a_y*q_y + a_z*q_z)]])"
      ]
     },
     "metadata": {}
    },
    {
     "output_type": "display_data",
     "data": {
      "text/latex": [
       "$\\displaystyle \\left[\\begin{matrix}q_{r}^{2} + q_{x}^{2} - q_{y}^{2} - q_{z}^{2} & - 2 q_{r} q_{z} + 2 q_{x} q_{y} & 2 q_{r} q_{y} + 2 q_{x} q_{z}\\\\2 q_{r} q_{z} + 2 q_{x} q_{y} & q_{r}^{2} - q_{x}^{2} + q_{y}^{2} - q_{z}^{2} & - 2 q_{r} q_{x} + 2 q_{y} q_{z}\\\\- 2 q_{r} q_{y} + 2 q_{x} q_{z} & 2 q_{r} q_{x} + 2 q_{y} q_{z} & q_{r}^{2} - q_{x}^{2} - q_{y}^{2} + q_{z}^{2}\\end{matrix}\\right]$"
      ],
      "text/plain": [
       "Matrix([\n",
       "[q_r**2 + q_x**2 - q_y**2 - q_z**2,            -2*q_r*q_z + 2*q_x*q_y,             2*q_r*q_y + 2*q_x*q_z],\n",
       "[            2*q_r*q_z + 2*q_x*q_y, q_r**2 - q_x**2 + q_y**2 - q_z**2,            -2*q_r*q_x + 2*q_y*q_z],\n",
       "[           -2*q_r*q_y + 2*q_x*q_z,             2*q_r*q_x + 2*q_y*q_z, q_r**2 - q_x**2 - q_y**2 + q_z**2]])"
      ]
     },
     "metadata": {}
    },
    {
     "output_type": "execute_result",
     "data": {
      "text/plain": [
       "'\\\\left[\\\\begin{matrix}q_{r}^{2} + q_{x}^{2} - q_{y}^{2} - q_{z}^{2} & - 2 q_{r} q_{z} + 2 q_{x} q_{y} & 2 q_{r} q_{y} + 2 q_{x} q_{z}\\\\\\\\2 q_{r} q_{z} + 2 q_{x} q_{y} & q_{r}^{2} - q_{x}^{2} + q_{y}^{2} - q_{z}^{2} & - 2 q_{r} q_{x} + 2 q_{y} q_{z}\\\\\\\\- 2 q_{r} q_{y} + 2 q_{x} q_{z} & 2 q_{r} q_{x} + 2 q_{y} q_{z} & q_{r}^{2} - q_{x}^{2} - q_{y}^{2} + q_{z}^{2}\\\\end{matrix}\\\\right]'"
      ]
     },
     "metadata": {},
     "execution_count": 11
    }
   ],
   "metadata": {}
  },
  {
   "cell_type": "markdown",
   "source": [
    "real part: 0\r\n",
    "\r\n",
    "imaginary part i: (q_r*(a_x*q_r - a_y*q_z + a_z*q_y) + q_x*(a_x*q_x + a_y*q_y + a_z*q_z) + q_y*(-a_x*q_y + a_y*q_x + a_z*q_r) - q_z*(a_x*q_z + a_y*q_r - a_z*q_x))\r\n",
    "\r\n",
    "imaginary part j: (q_r*(a_x*q_z + a_y*q_r - a_z*q_x) - q_x*(-a_x*q_y + a_y*q_x + a_z*q_r) + q_y*(a_x*q_x + a_y*q_y + a_z*q_z) + q_z*(a_x*q_r - a_y*q_z + a_z*q_y))\r\n",
    "\r\n",
    "imaginary part k: (q_r*(-a_x*q_y + a_y*q_x + a_z*q_r) + q_x*(a_x*q_z + a_y*q_r - a_z*q_x) - q_y*(a_x*q_r - a_y*q_z + a_z*q_y) + q_z*(a_x*q_x + a_y*q_y + a_z*q_z))\r\n",
    "\r\n"
   ],
   "metadata": {}
  },
  {
   "cell_type": "markdown",
   "source": [
    "## Euler angles to quaternion"
   ],
   "metadata": {}
  },
  {
   "cell_type": "code",
   "execution_count": 12,
   "source": [
    "yaw, pitch, roll = sp.symbols(\"\\psi \\\\theta \\phi\")\r\n",
    "\r\n",
    "cosz = sp.cos(yaw / 2)\r\n",
    "sinz = sp.sin(yaw / 2)\r\n",
    "\r\n",
    "cosy = sp.cos(pitch / 2)\r\n",
    "siny = sp.sin(pitch / 2)\r\n",
    "\r\n",
    "cosx = sp.cos(roll / 2)\r\n",
    "sinx = sp.sin(roll / 2)\r\n",
    "\r\n",
    "qz = Quaternion(cosz, 0, 0, sinz)\r\n",
    "qy = Quaternion(cosy, 0, siny, 0)\r\n",
    "qx = Quaternion(cosx, sinx, 0, 0)\r\n",
    "\r\n",
    "qr = qz*qy*qx\r\n",
    "display(qr)\r\n",
    "\r\n",
    "\r\n",
    "print(qr)\r\n",
    "\r\n",
    "\r\n"
   ],
   "outputs": [
    {
     "output_type": "display_data",
     "data": {
      "text/latex": [
       "$\\displaystyle \\left(\\sin{\\left(\\frac{\\phi}{2} \\right)} \\sin{\\left(\\frac{\\psi}{2} \\right)} \\sin{\\left(\\frac{\\theta}{2} \\right)} + \\cos{\\left(\\frac{\\phi}{2} \\right)} \\cos{\\left(\\frac{\\psi}{2} \\right)} \\cos{\\left(\\frac{\\theta}{2} \\right)}\\right) + \\left(\\sin{\\left(\\frac{\\phi}{2} \\right)} \\cos{\\left(\\frac{\\psi}{2} \\right)} \\cos{\\left(\\frac{\\theta}{2} \\right)} - \\sin{\\left(\\frac{\\psi}{2} \\right)} \\sin{\\left(\\frac{\\theta}{2} \\right)} \\cos{\\left(\\frac{\\phi}{2} \\right)}\\right) i + \\left(\\sin{\\left(\\frac{\\phi}{2} \\right)} \\sin{\\left(\\frac{\\psi}{2} \\right)} \\cos{\\left(\\frac{\\theta}{2} \\right)} + \\sin{\\left(\\frac{\\theta}{2} \\right)} \\cos{\\left(\\frac{\\phi}{2} \\right)} \\cos{\\left(\\frac{\\psi}{2} \\right)}\\right) j + \\left(- \\sin{\\left(\\frac{\\phi}{2} \\right)} \\sin{\\left(\\frac{\\theta}{2} \\right)} \\cos{\\left(\\frac{\\psi}{2} \\right)} + \\sin{\\left(\\frac{\\psi}{2} \\right)} \\cos{\\left(\\frac{\\phi}{2} \\right)} \\cos{\\left(\\frac{\\theta}{2} \\right)}\\right) k$"
      ],
      "text/plain": [
       "(sin(\\phi/2)*sin(\\psi/2)*sin(\\theta/2) + cos(\\phi/2)*cos(\\psi/2)*cos(\\theta/2)) + (sin(\\phi/2)*cos(\\psi/2)*cos(\\theta/2) - sin(\\psi/2)*sin(\\theta/2)*cos(\\phi/2))*i + (sin(\\phi/2)*sin(\\psi/2)*cos(\\theta/2) + sin(\\theta/2)*cos(\\phi/2)*cos(\\psi/2))*j + (-sin(\\phi/2)*sin(\\theta/2)*cos(\\psi/2) + sin(\\psi/2)*cos(\\phi/2)*cos(\\theta/2))*k"
      ]
     },
     "metadata": {}
    },
    {
     "output_type": "stream",
     "name": "stdout",
     "text": [
      "(sin(\\phi/2)*sin(\\psi/2)*sin(\\theta/2) + cos(\\phi/2)*cos(\\psi/2)*cos(\\theta/2)) + (sin(\\phi/2)*cos(\\psi/2)*cos(\\theta/2) - sin(\\psi/2)*sin(\\theta/2)*cos(\\phi/2))*i + (sin(\\phi/2)*sin(\\psi/2)*cos(\\theta/2) + sin(\\theta/2)*cos(\\phi/2)*cos(\\psi/2))*j + (-sin(\\phi/2)*sin(\\theta/2)*cos(\\psi/2) + sin(\\psi/2)*cos(\\phi/2)*cos(\\theta/2))*k\n"
     ]
    }
   ],
   "metadata": {}
  },
  {
   "cell_type": "markdown",
   "source": [
    "### Euler angle to quaternion \r\n",
    "$$ sin(\\phi/2) sin(\\psi/2) sin(\\theta/2) + cos(\\phi/2) cos(\\psi/2) cos(\\theta/2) $$\r\n",
    "\r\n",
    "$$ sin(\\phi/2) cos(\\psi/2) cos(\\theta/2) - sin(\\psi/2) sin(\\theta/2) cos(\\phi/2) $$\r\n",
    "\r\n",
    "$$ sin(\\phi/2) sin(\\psi/2) cos(\\theta/2) + sin(\\theta/2) cos(\\phi/2) cos(\\psi/2) $$\r\n",
    "\r\n",
    "$$ -sin(\\phi/2) sin(\\theta/2) cos(\\psi/2) + sin(\\psi/2) cos(\\phi/2) cos(\\theta/2) $$"
   ],
   "metadata": {}
  },
  {
   "cell_type": "code",
   "execution_count": 13,
   "source": [
    "yaw, pitch, roll = sp.symbols(\"\\psi \\\\theta \\phi\")\r\n",
    "\r\n",
    "Rx = sp.Matrix([[1, 0, 0],\r\n",
    "                [0, sp.cos(roll), -sp.sin(roll)],\r\n",
    "                [0, sp.sin(roll),  sp.cos(roll)]])\r\n",
    "\r\n",
    "Ry = sp.Matrix([[sp.cos(pitch), 0, sp.sin(pitch)],\r\n",
    "                [0, 1, 0],\r\n",
    "                [-sp.sin(pitch),  0, sp.cos(pitch)]])\r\n",
    "\r\n",
    "Rz = sp.Matrix([[sp.cos(yaw), -sp.sin(yaw), 0],\r\n",
    "                [sp.sin(yaw),  sp.cos(yaw), 0],\r\n",
    "                [0, 0, 1],])\r\n",
    "\r\n",
    "R = Rz*Ry*Rx\r\n",
    "\r\n",
    "display(R)\r\n",
    "\r\n",
    "print(sp.latex(R))"
   ],
   "outputs": [
    {
     "output_type": "display_data",
     "data": {
      "text/latex": [
       "$\\displaystyle \\left[\\begin{matrix}\\cos{\\left(\\psi \\right)} \\cos{\\left(\\theta \\right)} & \\sin{\\left(\\phi \\right)} \\sin{\\left(\\theta \\right)} \\cos{\\left(\\psi \\right)} - \\sin{\\left(\\psi \\right)} \\cos{\\left(\\phi \\right)} & \\sin{\\left(\\phi \\right)} \\sin{\\left(\\psi \\right)} + \\sin{\\left(\\theta \\right)} \\cos{\\left(\\phi \\right)} \\cos{\\left(\\psi \\right)}\\\\\\sin{\\left(\\psi \\right)} \\cos{\\left(\\theta \\right)} & \\sin{\\left(\\phi \\right)} \\sin{\\left(\\psi \\right)} \\sin{\\left(\\theta \\right)} + \\cos{\\left(\\phi \\right)} \\cos{\\left(\\psi \\right)} & - \\sin{\\left(\\phi \\right)} \\cos{\\left(\\psi \\right)} + \\sin{\\left(\\psi \\right)} \\sin{\\left(\\theta \\right)} \\cos{\\left(\\phi \\right)}\\\\- \\sin{\\left(\\theta \\right)} & \\sin{\\left(\\phi \\right)} \\cos{\\left(\\theta \\right)} & \\cos{\\left(\\phi \\right)} \\cos{\\left(\\theta \\right)}\\end{matrix}\\right]$"
      ],
      "text/plain": [
       "Matrix([\n",
       "[cos(\\psi)*cos(\\theta), sin(\\phi)*sin(\\theta)*cos(\\psi) - sin(\\psi)*cos(\\phi),  sin(\\phi)*sin(\\psi) + sin(\\theta)*cos(\\phi)*cos(\\psi)],\n",
       "[sin(\\psi)*cos(\\theta), sin(\\phi)*sin(\\psi)*sin(\\theta) + cos(\\phi)*cos(\\psi), -sin(\\phi)*cos(\\psi) + sin(\\psi)*sin(\\theta)*cos(\\phi)],\n",
       "[         -sin(\\theta),                                 sin(\\phi)*cos(\\theta),                                  cos(\\phi)*cos(\\theta)]])"
      ]
     },
     "metadata": {}
    },
    {
     "output_type": "stream",
     "name": "stdout",
     "text": [
      "\\left[\\begin{matrix}\\cos{\\left(\\psi \\right)} \\cos{\\left(\\theta \\right)} & \\sin{\\left(\\phi \\right)} \\sin{\\left(\\theta \\right)} \\cos{\\left(\\psi \\right)} - \\sin{\\left(\\psi \\right)} \\cos{\\left(\\phi \\right)} & \\sin{\\left(\\phi \\right)} \\sin{\\left(\\psi \\right)} + \\sin{\\left(\\theta \\right)} \\cos{\\left(\\phi \\right)} \\cos{\\left(\\psi \\right)}\\\\\\sin{\\left(\\psi \\right)} \\cos{\\left(\\theta \\right)} & \\sin{\\left(\\phi \\right)} \\sin{\\left(\\psi \\right)} \\sin{\\left(\\theta \\right)} + \\cos{\\left(\\phi \\right)} \\cos{\\left(\\psi \\right)} & - \\sin{\\left(\\phi \\right)} \\cos{\\left(\\psi \\right)} + \\sin{\\left(\\psi \\right)} \\sin{\\left(\\theta \\right)} \\cos{\\left(\\phi \\right)}\\\\- \\sin{\\left(\\theta \\right)} & \\sin{\\left(\\phi \\right)} \\cos{\\left(\\theta \\right)} & \\cos{\\left(\\phi \\right)} \\cos{\\left(\\theta \\right)}\\end{matrix}\\right]\n"
     ]
    }
   ],
   "metadata": {}
  },
  {
   "cell_type": "code",
   "execution_count": null,
   "source": [],
   "outputs": [],
   "metadata": {}
  }
 ],
 "metadata": {
  "orig_nbformat": 4,
  "language_info": {
   "name": "python",
   "version": "3.7.3",
   "mimetype": "text/x-python",
   "codemirror_mode": {
    "name": "ipython",
    "version": 3
   },
   "pygments_lexer": "ipython3",
   "nbconvert_exporter": "python",
   "file_extension": ".py"
  },
  "kernelspec": {
   "name": "python3",
   "display_name": "Python 3.7.3 64-bit"
  },
  "interpreter": {
   "hash": "04635d289a519a1410467dd0afb0db42f9184808881ca68b2eb5a687a20a5a94"
  }
 },
 "nbformat": 4,
 "nbformat_minor": 2
}